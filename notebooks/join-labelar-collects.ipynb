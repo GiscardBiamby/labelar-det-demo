{
 "cells": [
  {
   "cell_type": "markdown",
   "metadata": {},
   "source": [
    "# Join all LabelAR collects in a given folder\n",
    "So that we have one annotation file and one image folder for easy training. (One each for train and val, actually)\n",
    "The folder structure will be:\n",
    " - `data/annotations/new-annotation-file.json`\n",
    " - `data/images/new-image-folder/*.png`\n",
    " \n",
    "__Before running this notebook__, you should have copied all the labelar collection folders you want to join into a single folder in `data/` and name that folder some unique dataset name so that you have:\n",
    "  - `data/unique-dataset-name/collect-id-1/`, `data/unique-dataset-name/collect-id-2/`, ..."
   ]
  },
  {
   "cell_type": "code",
   "execution_count": 1,
   "metadata": {},
   "outputs": [],
   "source": [
    "import os\n",
    "import subprocess\n",
    "\n",
    "import contextlib\n",
    "\n",
    "root_dir = subprocess.check_output(['git', 'rev-parse', '--show-toplevel']).strip()\n",
    "os.chdir(root_dir)\n",
    "\n",
    "import glob\n",
    "import json\n",
    "import numpy as np\n",
    "import matplotlib.pyplot as plt\n",
    "from matplotlib.pyplot import imshow\n",
    "%matplotlib inline\n",
    "from PIL import Image"
   ]
  },
  {
   "cell_type": "markdown",
   "metadata": {},
   "source": [
    "Importing from pycocotools can be problematic.  Did you activate the right conda env e.g. `conda activate labelar_demo`?"
   ]
  },
  {
   "cell_type": "code",
   "execution_count": 2,
   "metadata": {},
   "outputs": [],
   "source": [
    "import sys\n",
    "sys.path.append('vendor/cocoapi/PythonAPI')\n",
    "from pycocotools.coco import COCO\n",
    "from pycocotools import mask as maskUtils"
   ]
  },
  {
   "cell_type": "markdown",
   "metadata": {},
   "source": [
    "# Set variables\n",
    "Set some path variables so that `collection_path` leads to a directory of labelar collection folders"
   ]
  },
  {
   "cell_type": "code",
   "execution_count": 55,
   "metadata": {},
   "outputs": [
    {
     "name": "stdout",
     "output_type": "stream",
     "text": [
      "['SWKW', 'FPLM']\n"
     ]
    }
   ],
   "source": [
    "# SET THESE PATH VARIABLES\n",
    "# -  -  -  -  -  -  -  -  -  -  -  -  -  -  -  -  -  -  -  -  \n",
    "name = 'alphamugs' # the name of your new dataset  !! - this needs to match you unique dataset name you gave the collection folder e.g. data/alphamugs/ (see top cell instructions)\n",
    "split = 'train'\n",
    "#split = 'val'\n",
    "# -  -  -  -  -  -  -  -  -  -  -  -  -  -  -  -  -  -  -  -  \n",
    "\n",
    "data_dir = os.path.join(os.getcwd(),'data')\n",
    "\n",
    "#this should lead to a directory of labelar collection folders\n",
    "collection_path = os.path.join(data_dir,name)\n",
    "\n",
    "# get list of ids of those collection folders\n",
    "collection_ids = os.listdir(collection_path)\n",
    "print(collection_ids)"
   ]
  },
  {
   "cell_type": "markdown",
   "metadata": {},
   "source": [
    "# View the disjoint annotations\n",
    "Gather the annotation files and display over the images..."
   ]
  },
  {
   "cell_type": "code",
   "execution_count": null,
   "metadata": {
    "scrolled": false
   },
   "outputs": [],
   "source": [
    "#pick one of those collection ids\n",
    "cid = collection_ids[1] # <- change this number to view different collects\n",
    "\n",
    "#path to folder that contains annotations and images\n",
    "src_folder = os.path.join(collection_path,cid) \n",
    "# get list of annotation files\n",
    "ann_files = glob.glob(os.path.join(src_folder,'*'+'.json' )) \n",
    "\n",
    "for ann_file in ann_files:\n",
    "    with open(os.devnull, \"w\") as f, contextlib.redirect_stdout(f): #suppressed output\n",
    "        coco = COCO(ann_file) #TODO: suppress this\n",
    "\n",
    "    coco_imgs = coco.loadImgs(ids=coco.getImgIds())\n",
    "\n",
    "    # view the collected labelar images\n",
    "    for coco_im in coco_imgs:\n",
    "\n",
    "        im = Image.open(os.path.join(src_folder,coco_im['file_name']))\n",
    "\n",
    "        fig = plt.figure(figsize=(10, 10)) #change display size of image here\n",
    "\n",
    "        plt.title('Image id: {}'.format(coco_im['id']))\n",
    "        plt.axis('off')\n",
    "        imshow(im)\n",
    "\n",
    "        # display annotations\n",
    "        ann_ids = coco.getAnnIds(imgIds=[coco_im['id']])\n",
    "        anns = coco.loadAnns(ann_ids)\n",
    "\n",
    "        #print(anns)\n",
    "\n",
    "        #quick formatting mod\n",
    "        for ann in anns:\n",
    "            ann['segmentation'] = [ann['segmentation'][0]['points']]\n",
    "            #for seg in ann['segmentation']:\n",
    "                #seg['points'] = [seg['points']]\n",
    "            ann['bbox'] = [ann['box']]\n",
    "\n",
    "\n",
    "        coco.showAnns(anns)"
   ]
  },
  {
   "cell_type": "markdown",
   "metadata": {},
   "source": [
    "# Check for category mispelling"
   ]
  },
  {
   "cell_type": "code",
   "execution_count": 58,
   "metadata": {},
   "outputs": [
    {
     "name": "stdout",
     "output_type": "stream",
     "text": [
      "\n",
      "For cid: SWKW \n",
      " [{'supercategory': '', 'id': 0, 'name': 'mug-blu-s'}, {'supercategory': '', 'id': 1, 'name': 'mug-blu-t'}, {'supercategory': '', 'id': 2, 'name': 'mug-red'}, {'supercategory': '', 'id': 3, 'name': 'mug-wht-s'}, {'supercategory': '', 'id': 4, 'name': 'mug-wht-t'}] \n",
      "\n",
      "\n",
      "For cid: FPLM \n",
      " [{'supercategory': '', 'id': 0, 'name': 'mug-blu-t'}, {'supercategory': '', 'id': 1, 'name': 'mug-wht-t'}, {'supercategory': '', 'id': 2, 'name': 'mug-red'}, {'supercategory': '', 'id': 3, 'name': 'mug-wht-s'}, {'supercategory': '', 'id': 4, 'name': 'mug-blue-s'}] \n",
      "\n"
     ]
    }
   ],
   "source": [
    "#check for category mispellings\n",
    "for cid in collection_ids:\n",
    "    #get folder path that contains annotations and images\n",
    "    src_folder = os.path.join(collection_path,cid) \n",
    "    \n",
    "    #get list of annotation files in the folder\n",
    "    json_files = glob.glob(os.path.join(src_folder,'*'+'.json' )) \n",
    "    \n",
    "    #load data as a COCO object\n",
    "    with open(os.devnull, \"w\") as f, contextlib.redirect_stdout(f): #suppressed output\n",
    "        coco_misp = COCO(json_files[0]); \n",
    "    print('\\nFor cid:', cid, '\\n', coco_misp.dataset['categories'], '\\n')\n",
    "    "
   ]
  },
  {
   "cell_type": "markdown",
   "metadata": {},
   "source": [
    "## Make a spelling correction here\n",
    "If we mispelled anything, input the `{'collection_id':{'mispelling':'correction'}}` in the cell below"
   ]
  },
  {
   "cell_type": "code",
   "execution_count": 38,
   "metadata": {},
   "outputs": [],
   "source": [
    "#if we mispelled anything, input the `{'collection_id':{'mispelling':'correction'}}` here\n",
    "mispelled = {'FPLM':{'mug-blue-s':'mug-blu-s'},'SWKW':{}}\n",
    "\n",
    "#else, leave as an empty dictionary for the respective collection id, at a minimum:\n",
    "#mispelled = {'FPLM':{},'SWKW':{}}\n"
   ]
  },
  {
   "cell_type": "markdown",
   "metadata": {},
   "source": [
    "# Create and save the joined json (along with the new joined image folder)\n",
    "Go through each collect and add images and annotations to respective master lists"
   ]
  },
  {
   "cell_type": "code",
   "execution_count": null,
   "metadata": {},
   "outputs": [],
   "source": [
    "from shutil import copyfile\n",
    "\n",
    "ann_counter = 0\n",
    "\n",
    "master_imgs, master_anns = [],[]\n",
    "\n",
    "newImgFolder = os.path.join(data_dir,'images','{}_{}'.format(name,split))\n",
    "\n",
    "#New image directory\n",
    "if not os.path.exists(newImgFolder):\n",
    "    os.makedirs(newImgFolder)\n",
    "\n",
    "#for each collect\n",
    "for cid in collection_ids:\n",
    "    \n",
    "    #get folder path that contains annotations and images\n",
    "    src_folder = os.path.join(collection_path,cid) \n",
    "    \n",
    "    #get list of annotation files in the folder\n",
    "    json_files = glob.glob(os.path.join(src_folder,'*'+'.json' )) \n",
    "    \n",
    "    \n",
    "    #for each json file in the folder\n",
    "    for json_file in json_files:\n",
    "        \n",
    "        #load data as a COCO object\n",
    "        with open(os.devnull, \"w\") as f, contextlib.redirect_stdout(f): #suppressed output\n",
    "            coco = COCO(json_file); #TODO: suppress this\n",
    "\n",
    "        #APPEND IMAGES TO MASTER LIST\n",
    "        # -  -  -  -  -  -  -  -  -  -  -  -\n",
    "        \n",
    "        imgs = coco.loadImgs(ids=coco.getImgIds())\n",
    "\n",
    "        #for each image\n",
    "        for img in imgs:\n",
    "            \n",
    "            new_img = img.copy()\n",
    "            \n",
    "            new_img['collection_id'] = cid\n",
    "            \n",
    "            new_img['file_name'] = str(img['id']).zfill(12) + '.png'\n",
    "\n",
    "            master_imgs.append(new_img)\n",
    "            \n",
    "            I = Image.open(os.path.join(src_folder,img['file_name']))\n",
    "    \n",
    "            npim = np.array(I)\n",
    "\n",
    "            # If png has 4 channels, save only 3\n",
    "            src = os.path.join(src_folder,img['file_name'])\n",
    "            dst = os.path.join(newImgFolder,str(img['id']).zfill(12) + '.png')\n",
    "            if npim.shape[2] == 4:\n",
    "                img_3chan = Image.fromarray(npim[...,:3])\n",
    "\n",
    "                portrait = False\n",
    "                if portrait:\n",
    "                    img_rot = img_3chan.rotate(270) # if in portrait mode\n",
    "                    img_rot.save(dst)\n",
    "                else:\n",
    "                    img_3chan.save(dst)\n",
    "\n",
    "                print('Saved image: {}'.format(dst))\n",
    "            else:\n",
    "                #new_path = os.path.join(img_dst,new_name)\n",
    "                shutil.copy(src,dst)\n",
    "            \n",
    "            #Copy image over to new image folder\n",
    "\n",
    "            #copyfile(src,dst)\n",
    "            \n",
    "            \n",
    "        #APPEND ANNOTATIONS TO MASTER LIST\n",
    "        # -  -  -  -  -  -  -  -  -  -  -  -\n",
    "        \n",
    "        #get the category dictionary for this collect\n",
    "        anns = coco.loadAnns(coco.getAnnIds())\n",
    "        collect_cats = coco.dataset['categories']\n",
    "        \n",
    "        #correct mispelled category names\n",
    "        if mispelled[cid]:\n",
    "            print('Correcting mispelling for collection:', cid, '\\n\\n')\n",
    "            for d in collect_cats:\n",
    "                if d['name'] in mispelled[cid]:\n",
    "                    d['name'] = mispelled[cid][d['name']]\n",
    "            \n",
    "        \n",
    "        #sort alphabetically on category names then re-assign category ids\n",
    "        sorted_cats = sorted(collect_cats, key=lambda k: k['name']) \n",
    "        for di,new_id in zip(sorted_cats, [0,1,2,3,4]): \n",
    "            di['id'] = new_id\n",
    "            \n",
    "        #create a mapping index from the old id to the new id\n",
    "        oldId2NewId = {x['id']:y['id'] for x,y in zip(collect_cats,sorted_cats)}\n",
    "\n",
    "        for ann in anns:\n",
    "\n",
    "            new_ann = ann.copy()\n",
    "                               \n",
    "            #quick formatting mods\n",
    "            new_ann['segmentation'] = [ann['segmentation'][0]['points']]\n",
    "            new_ann['bbox'] = ann['box']\n",
    "                               \n",
    "            #update to keep category-id consistent across multiple collects\n",
    "            new_ann['category_id'] = oldId2NewId[ann['category_id']]\n",
    "            \n",
    "            new_ann['id'] = ann_counter\n",
    "            \n",
    "            ann_counter += 1\n",
    "                               \n",
    "            master_anns.append(new_ann)\n",
    "            \n",
    "        master_cats = sorted_cats\n",
    "\n",
    "new_instances = {'images':master_imgs, 'annotations':master_anns, 'categories':master_cats}\n",
    "\n",
    "newAnnFile = os.path.join(data_dir,'annotations','instances_{}_{}.json'.format(name,split))\n",
    "\n",
    "#Check 'annotations' directory\n",
    "annotations_folder = os.path.join(data_dir,'annotations')\n",
    "if not os.path.exists(annotations_folder):\n",
    "    os.makedirs(annotations_folder)\n",
    "\n",
    "with open(newAnnFile, 'w') as outfile:\n",
    "    json.dump(new_instances, outfile)\n",
    "\n",
    "print('New instance annotations save as {}'.format(newAnnFile))"
   ]
  },
  {
   "cell_type": "markdown",
   "metadata": {},
   "source": [
    "# Visually verify the new annotations"
   ]
  },
  {
   "cell_type": "code",
   "execution_count": null,
   "metadata": {
    "scrolled": false
   },
   "outputs": [],
   "source": [
    "with open(os.devnull, \"w\") as f, contextlib.redirect_stdout(f): #suppresses output\n",
    "    coco_all = COCO(os.path.join(annotations_folder,newAnnFile))\n",
    "\n",
    "coco_imgs = coco_all.loadImgs(ids=coco_all.getImgIds())\n",
    "\n",
    "# view the collected labelar images\n",
    "for coco_im in coco_imgs:\n",
    "\n",
    "    im = Image.open(os.path.join(newImgFolder,coco_im['file_name']))\n",
    "\n",
    "    fig = plt.figure(figsize=(10, 10)) #change display size of image here\n",
    "\n",
    "    plt.title('Image id: {}'.format(coco_im['id']))\n",
    "    plt.axis('off')\n",
    "    imshow(im)\n",
    "\n",
    "    # display annotations\n",
    "    ann_ids = coco_all.getAnnIds(imgIds=[coco_im['id']])\n",
    "    anns = coco_all.loadAnns(ann_ids)\n",
    "\n",
    "\n",
    "    coco_all.showAnns(anns)"
   ]
  },
  {
   "cell_type": "code",
   "execution_count": null,
   "metadata": {},
   "outputs": [],
   "source": []
  }
 ],
 "metadata": {
  "kernelspec": {
   "display_name": "Python 3",
   "language": "python",
   "name": "python3"
  },
  "language_info": {
   "codemirror_mode": {
    "name": "ipython",
    "version": 3
   },
   "file_extension": ".py",
   "mimetype": "text/x-python",
   "name": "python",
   "nbconvert_exporter": "python",
   "pygments_lexer": "ipython3",
   "version": "3.7.3"
  }
 },
 "nbformat": 4,
 "nbformat_minor": 2
}
