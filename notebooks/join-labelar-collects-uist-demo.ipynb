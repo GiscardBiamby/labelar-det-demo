{
 "cells": [
  {
   "cell_type": "markdown",
   "metadata": {},
   "source": [
    "# Join all LabelAR collects in a given folder\n",
    "So that we have one annotation file and one image folder for easy training. (One each for train and val, actually)\n",
    "The folder structure will be:\n",
    " - `data/annotations/new-annotation-file.json`\n",
    " - `data/images/new-image-folder/*.png`\n",
    " \n",
    "__Before running this notebook__, you should have copied all the labelar collection folders you want to join into a single folder in `data/` and name that folder some unique dataset name so that you have:\n",
    "  - `data/unique-dataset-name/collect-id-1/`, `data/unique-dataset-name/collect-id-2/`, ..."
   ]
  },
  {
   "cell_type": "code",
   "execution_count": null,
   "metadata": {},
   "outputs": [],
   "source": [
    "import os\n",
    "import subprocess\n",
    "from pathlib import Path\n",
    "import contextlib\n",
    "\n",
    "root_dir = Path(subprocess.check_output(['git', 'rev-parse', '--show-toplevel']).strip().decode(\"utf-8\"))\n",
    "os.chdir(root_dir)\n",
    "\n",
    "import glob\n",
    "import json\n",
    "import numpy as np\n",
    "import matplotlib.pyplot as plt\n",
    "from matplotlib.pyplot import imshow\n",
    "%matplotlib inline\n",
    "from PIL import Image"
   ]
  },
  {
   "cell_type": "markdown",
   "metadata": {},
   "source": [
    "Importing from pycocotools can be problematic.  Did you activate the right conda env e.g. `conda activate labelar_demo`?"
   ]
  },
  {
   "cell_type": "code",
   "execution_count": null,
   "metadata": {},
   "outputs": [],
   "source": [
    "import sys\n",
    "sys.path.append('vendor/cocoapi/PythonAPI') # not needed as long as you have \"labelar_demo\" selected as the conda environment\n",
    "from pycocotools.coco import COCO\n",
    "from pycocotools import mask as maskUtils"
   ]
  },
  {
   "cell_type": "markdown",
   "metadata": {},
   "source": [
    "# Set variables\n",
    "Set some path variables so that `collection_path` leads to a directory of labelar collection folders"
   ]
  },
  {
   "cell_type": "code",
   "execution_count": null,
   "metadata": {},
   "outputs": [],
   "source": [
    "# SET THESE PATH VARIABLES\n",
    "# -  -  -  -  -  -  -  -  -  -  -  -  -  -  -  -  -  -  -  -  \n",
    "name = 'demo-mugs' # the name of your new dataset  !! - this needs to match you unique dataset name you gave the collection folder e.g. data/alphamugs/ (see top cell instructions)\n",
    "split = 'train'\n",
    "#split = 'val'\n",
    "# -  -  -  -  -  -  -  -  -  -  -  -  -  -  -  -  -  -  -  -  \n",
    "\n",
    "data_dir = os.path.join(os.getcwd(),'data')\n",
    "\n",
    "#this should lead to a directory of labelar collection folders\n",
    "collection_path = os.path.join(data_dir,name)\n",
    "\n",
    "# get list of ids of those collection folders\n",
    "collection_ids = os.listdir(collection_path)\n",
    "print(collection_ids)"
   ]
  },
  {
   "cell_type": "markdown",
   "metadata": {},
   "source": [
    "# View the disjoint annotations\n",
    "Gather the annotation files and display over the images..."
   ]
  },
  {
   "cell_type": "code",
   "execution_count": null,
   "metadata": {},
   "outputs": [],
   "source": [
    "#pick one of those collection ids\n",
    "cid = collection_ids[1] # <- change this number to view different collects\n",
    "\n",
    "#path to folder that contains annotations and images\n",
    "src_folder = os.path.join(collection_path,cid) \n",
    "# get list of annotation files\n",
    "ann_files = glob.glob(os.path.join(src_folder,'*'+'.json' )) \n",
    "\n",
    "for ann_file in ann_files:\n",
    "    with open(os.devnull, \"w\") as f, contextlib.redirect_stdout(f): #suppressed output\n",
    "        coco = COCO(ann_file) #TODO: suppress this\n",
    "\n",
    "    coco_imgs = coco.loadImgs(ids=coco.getImgIds())\n",
    "\n",
    "    # view the collected labelar images\n",
    "    for coco_im in coco_imgs:\n",
    "\n",
    "        im = Image.open(os.path.join(src_folder,coco_im['file_name']))\n",
    "\n",
    "        fig = plt.figure(figsize=(10, 10)) #change display size of image here\n",
    "\n",
    "        plt.title('Image id: {}'.format(coco_im['id']))\n",
    "        plt.axis('off')\n",
    "        imshow(im)\n",
    "\n",
    "        # display annotations\n",
    "        ann_ids = coco.getAnnIds(imgIds=[coco_im['id']])\n",
    "        anns = coco.loadAnns(ann_ids)\n",
    "\n",
    "        #print(anns)\n",
    "\n",
    "        #quick formatting mod\n",
    "        for ann in anns:\n",
    "            ann['segmentation'] = [ann['segmentation'][0]['points']]\n",
    "            #for seg in ann['segmentation']:\n",
    "                #seg['points'] = [seg['points']]\n",
    "            ann['bbox'] = [ann['box']]\n",
    "\n",
    "\n",
    "        coco.showAnns(anns)"
   ]
  },
  {
   "cell_type": "markdown",
   "metadata": {},
   "source": [
    "# Check for category mispelling"
   ]
  },
  {
   "cell_type": "code",
   "execution_count": null,
   "metadata": {},
   "outputs": [],
   "source": [
    "#check for category mispellings\n",
    "for i, cid in enumerate(collection_ids):\n",
    "    #get folder path that contains annotations and images\n",
    "    src_folder = os.path.join(collection_path,cid) \n",
    "    \n",
    "    #get list of annotation files in the folder\n",
    "    json_files = glob.glob(os.path.join(src_folder,'*'+'.json' )) \n",
    "    \n",
    "    #load data as a COCO object\n",
    "    with open(os.devnull, \"w\") as f, contextlib.redirect_stdout(f): #suppressed output\n",
    "        coco_misp = COCO(json_files[0]); \n",
    "    print('\\nFor cid:', cid, '\\n', coco_misp.dataset['categories'], '\\n', \"i: \", i)\n",
    "    "
   ]
  },
  {
   "cell_type": "markdown",
   "metadata": {},
   "source": [
    "## Make a spelling correction here\n",
    "If we mispelled anything, input the `{'collection_id':{'mispelling':'correction'}}` in the cell below"
   ]
  },
  {
   "cell_type": "code",
   "execution_count": null,
   "metadata": {},
   "outputs": [],
   "source": [
    "#if we mispelled anything, input the `{'collection_id':{'mispelling':'correction'}}` here\n",
    "mispelled = {\n",
    "    'FPLM': {'mug-blue-s':'mug-blu-s'},\n",
    "    'SWKW': {},\n",
    "    '3RPC': {'0': 'mug-wht-s', '1': 'mug-blu-t', '2': 'mug-wht-t', '3': 'mug-blu-s', '4': 'mug-red'},\n",
    "    'VHR7': {},\n",
    "    '1DKT': {'mug-white-t': 'mug-wht-t', 'mug-white-s': 'mug-wht-s'},\n",
    "    'LYVP': {'mug-white-t': 'mug-wht-t', 'mug-white-s': 'mug-wht-s'},\n",
    "    'KS9A': {},\n",
    "    \n",
    "}\n",
    "\n",
    "#else, leave as an empty dictionary for the respective collection id, at a minimum:\n",
    "#mispelled = {'FPLM':{},'SWKW':{}}"
   ]
  },
  {
   "cell_type": "markdown",
   "metadata": {},
   "source": [
    "## Merge Categories from all the collects into one category set\n",
    "\n",
    "...and create forwards and backwards mappings between the categories from individual collects and the merged&remapped categories. The cells after this that process annotations and images can use the old_to_new_cats mapping to remap references to the old/individual collect categories"
   ]
  },
  {
   "cell_type": "code",
   "execution_count": null,
   "metadata": {},
   "outputs": [],
   "source": [
    "new_cats = {}\n",
    "old_to_new_cats = {}\n",
    "for i, cid in enumerate(collection_ids):\n",
    "    src_folder = os.path.join(collection_path,cid) \n",
    "    json_files = glob.glob(os.path.join(src_folder,'*'+'.json' )) \n",
    "    #load data as a COCO object\n",
    "    with open(os.devnull, \"w\") as f, contextlib.redirect_stdout(f): #suppressed output\n",
    "        coco = COCO(json_files[0]); \n",
    "    cats = coco.dataset[\"categories\"]\n",
    "    for c in cats:\n",
    "        corrected_name = c[\"name\"]\n",
    "        if cid in mispelled:\n",
    "            if c[\"name\"] in mispelled[cid]:\n",
    "                corrected_name = mispelled[cid][c[\"name\"]]\n",
    "        # If new cat name already registered, use the id already assigned to that cat name:\n",
    "        if corrected_name in new_cats:\n",
    "            new_cat_id = new_cats[corrected_name][\"id\"]\n",
    "        else:\n",
    "            new_cat_id = len(new_cats)\n",
    "        # Update new_cats, and the old_to_new mapping:\n",
    "        new_cats[corrected_name] = {\n",
    "            \"supercategory\": \"\"\n",
    "            , \"id\": new_cat_id\n",
    "            , \"name\": corrected_name\n",
    "        }\n",
    "        old_to_new_cats[(cid,c[\"id\"])] = {\n",
    "            \"cid\": cid\n",
    "            , \"old_file\": json_files[0]\n",
    "            , \"old_cat\": c\n",
    "            , \"old_id\": c[\"id\"]\n",
    "            , \"old_name\": c[\"name\"]\n",
    "            , \"id\": new_cat_id\n",
    "            , \"name\": corrected_name\n",
    "        }\n",
    "        \n",
    "print(\"\\nNEW CATS (merged & remapped):\")\n",
    "for k, v in new_cats.items():\n",
    "    print(f\"{k}: {v}\")\n",
    "\n",
    "print(\"\\nOLD TO NEW:\")\n",
    "for k, v in old_to_new_cats.items():\n",
    "    print(k, v)"
   ]
  },
  {
   "cell_type": "markdown",
   "metadata": {},
   "source": [
    "# Create and save the joined json (along with the new joined image folder)\n",
    "Go through each collect and add images and annotations to respective master lists"
   ]
  },
  {
   "cell_type": "code",
   "execution_count": null,
   "metadata": {},
   "outputs": [],
   "source": [
    "from shutil import copyfile\n",
    "\n",
    "ann_counter = 0\n",
    "old_to_new_imgs = {}\n",
    "master_imgs, master_anns = [],[]\n",
    "\n",
    "newImgFolder = os.path.join(data_dir,'images','{}_{}'.format(name,split))\n",
    "\n",
    "#New image directory\n",
    "if not os.path.exists(newImgFolder):\n",
    "    os.makedirs(newImgFolder)\n",
    "\n",
    "#for each collect\n",
    "for cid in collection_ids:\n",
    "    print(\"CID: \", cid)\n",
    "    #get folder path that contains annotations and images\n",
    "    src_folder = os.path.join(collection_path,cid) \n",
    "    \n",
    "    #get list of annotation files in the folder\n",
    "    json_files = glob.glob(os.path.join(src_folder,'*'+'.json' ))\n",
    "    \n",
    "    #for each json file in the folder\n",
    "    for json_file in json_files:\n",
    "        print(\"JSON_FILE: \", json_file)\n",
    "        #load data as a COCO object\n",
    "        with open(os.devnull, \"w\") as f, contextlib.redirect_stdout(f): #suppressed output\n",
    "            coco = COCO(json_file);\n",
    "\n",
    "        #APPEND IMAGES TO MASTER LIST\n",
    "        # -  -  -  -  -  -  -  -  -  -  -  -\n",
    "        img = coco.loadImgs(ids=coco.getImgIds())[0]\n",
    "        new_img = img.copy()\n",
    "        new_img['id'] = len(master_imgs)\n",
    "        new_img['collection_id'] = cid\n",
    "        new_img['old_file_name'] = str(img['id']).zfill(12) + '.png'\n",
    "        new_img['file_name'] = str(new_img['id']).zfill(12) + '.png'\n",
    "        new_img['old_id'] = img['id']\n",
    "        old_to_new_imgs[img[\"id\"]] = new_img['id']\n",
    "        master_imgs.append(new_img)\n",
    "        \n",
    "        I = Image.open(os.path.join(src_folder,img['file_name']))\n",
    "        npim = np.array(I)\n",
    "        # If png has 4 channels, save only 3\n",
    "        src = os.path.join(src_folder, img['file_name'])\n",
    "        dst = os.path.join(newImgFolder, str(new_img['id']).zfill(12) + '.png')\n",
    "        if npim.shape[2] == 4:\n",
    "            img_3chan = Image.fromarray(npim[...,:3])\n",
    "            portrait = False\n",
    "            if portrait:\n",
    "                img_rot = img_3chan.rotate(270) # if in portrait mode\n",
    "                img_rot.save(dst)\n",
    "            else:\n",
    "                img_3chan.save(dst)\n",
    "            print('Saved image: {}'.format(dst))\n",
    "        else:\n",
    "            shutil.copy(src,dst)\n",
    "\n",
    "    #APPEND ANNOTATIONS TO MASTER LIST\n",
    "    # -  -  -  -  -  -  -  -  -  -  -  -\n",
    "\n",
    "        #get the category dictionary for this collect\n",
    "        anns = coco.loadAnns(coco.getAnnIds())\n",
    "#         ac += len(anns)\n",
    "        for ann in anns:\n",
    "            new_ann = ann.copy()\n",
    "            #quick formatting mods\n",
    "            new_ann['segmentation'] = [ann['segmentation'][0]['points']]\n",
    "            new_ann['bbox'] = ann['box']\n",
    "            #update to keep category-id consistent across multiple collects\n",
    "            new_ann['category_id'] = old_to_new_cats[(cid, ann['category_id'])][\"id\"]\n",
    "            new_ann['id'] = ann_counter\n",
    "            new_ann[\"image_id\"] = old_to_new_imgs[ann[\"image_id\"]]\n",
    "            ann_counter += 1\n",
    "            master_anns.append(new_ann)\n",
    "\n",
    "new_instances = {'images':master_imgs, 'annotations':master_anns, 'categories':list(new_cats.values())}\n",
    "\n",
    "newAnnFile = os.path.join(data_dir,'annotations','instances_{}_{}.json'.format(name,split))\n",
    "\n",
    "#Check 'annotations' directory\n",
    "annotations_folder = os.path.join(data_dir,'annotations')\n",
    "if not os.path.exists(annotations_folder):\n",
    "    os.makedirs(annotations_folder)\n",
    "\n",
    "with open(newAnnFile, 'w') as outfile:\n",
    "    json.dump(new_instances, outfile)\n",
    "\n",
    "print('New instance annotations save as {}'.format(newAnnFile))"
   ]
  },
  {
   "cell_type": "code",
   "execution_count": null,
   "metadata": {},
   "outputs": [],
   "source": [
    "print(\"img_count: \", len(master_imgs))\n",
    "with open(os.devnull, \"w\") as f, contextlib.redirect_stdout(f): #suppresses output\n",
    "    coco_all = COCO(os.path.join(annotations_folder,newAnnFile))\n",
    "print(\"num images: \", len(coco_all.dataset[\"images\"]))\n",
    "print(\"num anns: \", len(coco_all.dataset[\"annotations\"]))\n",
    "print(\"ann_counter: \", ann_counter)\n",
    "#2, 5, 5, 2, 5, 5, 3\n"
   ]
  },
  {
   "cell_type": "markdown",
   "metadata": {},
   "source": [
    "# Visually verify the new annotations"
   ]
  },
  {
   "cell_type": "code",
   "execution_count": null,
   "metadata": {},
   "outputs": [],
   "source": [
    "with open(os.devnull, \"w\") as f, contextlib.redirect_stdout(f): #suppresses output\n",
    "    coco_all = COCO(os.path.join(annotations_folder,newAnnFile))\n",
    "\n",
    "coco_imgs = coco_all.loadImgs(ids=coco_all.getImgIds())\n",
    "print(f\"Found {len(coco_imgs)} images in dataset.\")\n",
    "\n",
    "# view the collected labelar images\n",
    "for coco_im in coco_imgs:\n",
    "\n",
    "    im = Image.open(os.path.join(newImgFolder,coco_im['file_name']))\n",
    "\n",
    "    fig = plt.figure(figsize=(10, 10)) #change display size of image here\n",
    "\n",
    "    plt.title('Image id: {}'.format(coco_im['id']))\n",
    "    plt.axis('off')\n",
    "    imshow(im)\n",
    "\n",
    "    # display annotations\n",
    "    ann_ids = coco_all.getAnnIds(imgIds=[coco_im['id']])\n",
    "    anns = coco_all.loadAnns(ann_ids)\n",
    "\n",
    "\n",
    "    coco_all.showAnns(anns)"
   ]
  },
  {
   "cell_type": "markdown",
   "metadata": {},
   "source": [
    "## Check categories one at a time to see if all images in the merged coco map same objects to same categories\n",
    "\n",
    "e.g., check that \"small-blue-mug\" refers to the same small blue mug across all collects\n"
   ]
  },
  {
   "cell_type": "code",
   "execution_count": null,
   "metadata": {},
   "outputs": [],
   "source": [
    "cat_name = 'mug-red'\n",
    "\n",
    "with open(os.devnull, \"w\") as f, contextlib.redirect_stdout(f): #suppresses output\n",
    "    coco_all = COCO(os.path.join(annotations_folder,newAnnFile))\n",
    "\n",
    "cat_ids = coco_all.getCatIds(catNms=[cat_name]);\n",
    "print(\"cat_ids: \", cat_ids)\n",
    "coco_imgs = coco_all.loadImgs(ids=coco_all.getImgIds(catIds=cat_ids))\n",
    "\n",
    "# view the collected labelar images\n",
    "for coco_im in coco_imgs:\n",
    "    im = Image.open(os.path.join(newImgFolder, coco_im['file_name']))\n",
    "    fig = plt.figure(figsize=(10, 10)) #change display size of image here\n",
    "    plt.title(f\"{coco_im['file_name']} - Image id: {coco_im['id']}\")\n",
    "    plt.axis('off')\n",
    "    imshow(im)\n",
    "    # display annotations\n",
    "    ann_ids = coco_all.getAnnIds(imgIds=[coco_im['id']], catIds=cat_ids)\n",
    "    anns = coco_all.loadAnns(ann_ids)\n",
    "    coco_all.showAnns(anns)"
   ]
  },
  {
   "cell_type": "code",
   "execution_count": null,
   "metadata": {},
   "outputs": [],
   "source": []
  }
 ],
 "metadata": {
  "kernelspec": {
   "display_name": "Python 3",
   "language": "python",
   "name": "python3"
  },
  "language_info": {
   "codemirror_mode": {
    "name": "ipython",
    "version": 3
   },
   "file_extension": ".py",
   "mimetype": "text/x-python",
   "name": "python",
   "nbconvert_exporter": "python",
   "pygments_lexer": "ipython3",
   "version": "3.6.8"
  }
 },
 "nbformat": 4,
 "nbformat_minor": 4
}
