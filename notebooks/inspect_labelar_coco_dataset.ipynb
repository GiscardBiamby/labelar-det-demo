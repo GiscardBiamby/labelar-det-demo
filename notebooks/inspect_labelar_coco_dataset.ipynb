{
 "cells": [
  {
   "cell_type": "markdown",
   "metadata": {},
   "source": [
    "# Inspect LabelAR COCO-formatted Dataset\n",
    "\n",
    "Use this notebook to inspect properties and bounding box labels of a dataset created from ./scripts/create_dataset(.py||.sh)\n"
   ]
  },
  {
   "cell_type": "code",
   "execution_count": 6,
   "metadata": {},
   "outputs": [],
   "source": [
    "from contextlib import redirect_stdout\n",
    "import glob\n",
    "import json\n",
    "import os\n",
    "from pathlib import Path\n",
    "import subprocess\n",
    "import sys\n",
    "import numpy as np\n",
    "import matplotlib.pyplot as plt\n",
    "from matplotlib.pyplot import imshow\n",
    "%matplotlib inline\n",
    "from PIL import Image\n",
    "from pycocotools.coco import COCO\n",
    "from pycocotools import mask as maskUtils"
   ]
  },
  {
   "cell_type": "code",
   "execution_count": 7,
   "metadata": {},
   "outputs": [],
   "source": [
    "root_dir = Path(subprocess.check_output(['git', 'rev-parse', '--show-toplevel']).strip().decode(\"utf-8\"))\n",
    "os.chdir(root_dir)"
   ]
  },
  {
   "cell_type": "code",
   "execution_count": null,
   "metadata": {},
   "outputs": [],
   "source": [
    "## Configure paths for the labelAR-collected dataset\n",
    "\n",
    "This should be a dataset that was collected with LabelAR and then converted to MS COCO format via the ./scripts/create_dataset.sh (which calls ./scripts/create_da)"
   ]
  },
  {
   "cell_type": "code",
   "execution_count": 13,
   "metadata": {},
   "outputs": [
    {
     "name": "stdout",
     "output_type": "stream",
     "text": [
      "loading annotations into memory...\n",
      "Done (t=0.01s)\n",
      "creating index...\n",
      "index created!\n",
      "ann_file:  /home/gbiamby/school/labelar-det-demo/training/data/uist-mugs-v2-val/annotations/instances_uist-mugs-v2_val.json\n",
      "img_path:  /home/gbiamby/school/labelar-det-demo/training/data/uist-mugs-v2-val/images/uist-mugs-v2_val\n"
     ]
    },
    {
     "data": {
      "text/plain": [
       "dict_keys(['images', 'annotations', 'categories'])"
      ]
     },
     "execution_count": 13,
     "metadata": {},
     "output_type": "execute_result"
    }
   ],
   "source": [
    "ds_name = \"uist-mugs-v2\"\n",
    "split = \"val\"\n",
    "data_dir = root_dir / f\"training/data/{ds_name}-{split}\"\n",
    "img_path = data_dir / f\"images/{ds_name}_{split}\"\n",
    "ann_file = data_dir / f\"annotations/instances_{ds_name}_{split}.json\"\n",
    "\n",
    "coco_all = COCO(ann_file)\n",
    "print(\"ann_file: \", ann_file)\n",
    "print(\"img_path: \", img_path)\n",
    "coco_all.dataset.keys()"
   ]
  },
  {
   "cell_type": "markdown",
   "metadata": {},
   "source": [
    "## Display some stats about the labelAR-collected COCO-formatted dataset:"
   ]
  },
  {
   "cell_type": "code",
   "execution_count": 14,
   "metadata": {},
   "outputs": [
    {
     "name": "stdout",
     "output_type": "stream",
     "text": [
      "Cats:  [{'supercategory': '', 'id': 0, 'name': 'background'}, {'supercategory': '', 'id': 1, 'name': 'blue'}, {'supercategory': '', 'id': 2, 'name': 'cal'}, {'supercategory': '', 'id': 3, 'name': 'dunder'}, {'supercategory': '', 'id': 4, 'name': 'flower'}, {'supercategory': '', 'id': 5, 'name': 'gold'}]\n",
      "Total images:  179\n",
      "Found 0 images for cat.id: 0, cat.name: 'background'\n",
      "Found 78 images for cat.id: 1, cat.name: 'blue'\n",
      "Found 77 images for cat.id: 2, cat.name: 'cal'\n",
      "Found 72 images for cat.id: 3, cat.name: 'dunder'\n",
      "Found 72 images for cat.id: 4, cat.name: 'flower'\n",
      "Found 72 images for cat.id: 5, cat.name: 'gold'\n"
     ]
    }
   ],
   "source": [
    "cats = coco_all.dataset[\"categories\"]\n",
    "print(\"Cats: \", cats)\n",
    "print(\"Total images: \", len(coco_all.dataset[\"images\"]))\n",
    "for cat in cats:\n",
    "    imgs = coco_all.loadImgs(ids=coco_all.getImgIds(catIds=[cat[\"id\"]]))\n",
    "    print(f\"Found {len(imgs)} images for cat.id: {cat['id']}, cat.name: '{cat['name']}'\")"
   ]
  },
  {
   "cell_type": "markdown",
   "metadata": {},
   "source": [
    "## Inspect all bounding box labels for one category at a time\n",
    "\n",
    "The output from the previous cell lists all the category id's and names. You can enter one of the category names into the `cat_name` variable below and then run the cell to output all images that have that category annotated somewhere in the image. We use the pycocotools API to also highlight the bounding box(es) for `cat_name`"
   ]
  },
  {
   "cell_type": "code",
   "execution_count": 17,
   "metadata": {},
   "outputs": [],
   "source": [
    "# Configure options:\n",
    "cat_name = \"flower\""
   ]
  },
  {
   "cell_type": "code",
   "execution_count": null,
   "metadata": {},
   "outputs": [],
   "source": [
    "# Display some stats about the coco-formatted dataset:\n",
    "cat_ids = coco_all.getCatIds(catNms=[cat_name]);\n",
    "print(\"cat_ids: \", cat_ids)\n",
    "coco_imgs = coco_all.loadImgs(ids=coco_all.getImgIds(catIds=cat_ids))\n",
    "\n",
    "# Display and highlight all annotations for cat_name:\n",
    "for coco_im in coco_imgs:\n",
    "    im = Image.open(img_path / coco_im['file_name'])\n",
    "    fig = plt.figure(figsize=(10, 10)) #change display size of image here\n",
    "    plt.title(f\"{coco_im['file_name']} - Image id: {coco_im['id']}\")\n",
    "    plt.axis('off')\n",
    "    imshow(im)\n",
    "    # display annotations\n",
    "    ann_ids = coco_all.getAnnIds(imgIds=[coco_im['id']], catIds=cat_ids)\n",
    "    anns = coco_all.loadAnns(ann_ids)\n",
    "    coco_all.showAnns(anns)"
   ]
  },
  {
   "cell_type": "code",
   "execution_count": null,
   "metadata": {},
   "outputs": [],
   "source": []
  }
 ],
 "metadata": {
  "kernelspec": {
   "display_name": "labelar_demo",
   "language": "python",
   "name": "h4d_env"
  },
  "language_info": {
   "codemirror_mode": {
    "name": "ipython",
    "version": 3
   },
   "file_extension": ".py",
   "mimetype": "text/x-python",
   "name": "python",
   "nbconvert_exporter": "python",
   "pygments_lexer": "ipython3",
   "version": "3.7.3"
  }
 },
 "nbformat": 4,
 "nbformat_minor": 4
}
